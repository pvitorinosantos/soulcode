{
  "nbformat": 4,
  "nbformat_minor": 0,
  "metadata": {
    "colab": {
      "provenance": [],
      "authorship_tag": "ABX9TyPB5cIhbphenaAJAbtD9VkJ",
      "include_colab_link": true
    },
    "kernelspec": {
      "name": "python3",
      "display_name": "Python 3"
    },
    "language_info": {
      "name": "python"
    }
  },
  "cells": [
    {
      "cell_type": "markdown",
      "metadata": {
        "id": "view-in-github",
        "colab_type": "text"
      },
      "source": [
        "<a href=\"https://colab.research.google.com/github/pvitorinosantos/soulcode/blob/main/Teste_da_unidade_prof_Douglas.ipynb\" target=\"_parent\"><img src=\"https://colab.research.google.com/assets/colab-badge.svg\" alt=\"Open In Colab\"/></a>"
      ]
    },
    {
      "cell_type": "code",
      "execution_count": null,
      "metadata": {
        "colab": {
          "base_uri": "https://localhost:8080/"
        },
        "id": "RcW1MuTfUkOl",
        "outputId": "f38085f5-938a-4700-af21-0a6c3f05b320"
      },
      "outputs": [
        {
          "name": "stdout",
          "output_type": "stream",
          "text": [
            "Digite abaixo 2 listas de múmeros. ATENÇÃO: Ambas as listas devem ter A MESMA QUANTIDADE DE DADOS!\n",
            "Digite os números da primeira lista, separados por espaços: 1 2 3 4 5 6 7\n",
            "Digite os números da  segunda lista, separados por espaços: 2 3 4 5 6 7 100\n"
          ]
        }
      ],
      "source": [
        "print('Digite abaixo 2 listas de múmeros. ATENÇÃO: Ambas as listas devem ter A MESMA QUANTIDADE DE DADOS!')\n",
        "numeros1 = (input('Digite os números da primeira lista, separados por espaços: ')) #Entrada de dados das listas\n",
        "numeros2 = (input('Digite os números da  segunda lista, separados por espaços: '))"
      ]
    },
    {
      "cell_type": "code",
      "source": [
        "#Calcula a média da 1a lista\n",
        "lista1 = numeros1.split()\n",
        "ordenado1 = []\n",
        "for i in lista1:\n",
        "  ordenado1.append(int(i))\n",
        "  media1 = (sum(ordenado1) / len(ordenado1))\n",
        "#print(f'A média da primeira lista é: {media1:.2f}')\n",
        "\n",
        "# Cálculo da Mediana - 1a lista\n",
        "ordenado1.sort()\n",
        "#print(ordenado1)\n",
        "qtd1 = len(ordenado1)\n",
        "#print(qtd1)\n",
        "lista1_1q = []\n",
        "lista1_3q = []\n",
        "if qtd1 % 2 == 0:\n",
        "  mediana1 = ((ordenado1[qtd1//2-1]) + (ordenado1[qtd1//2])) / 2\n",
        "  #print('A mediana da primeira lista é: ', mediana1)\n",
        "else:\n",
        "  mediana1 = (ordenado1[qtd1//2])\n",
        "  #print(f'A mediana da primeira lista é:  {mediana1}')\n",
        "# Cálculo da Moda - 1a Lista\n",
        "count = 0\n",
        "for m1 in ordenado1:\n",
        "  if ordenado1.count(m1) > count:\n",
        "    count = ordenado1.count(m1)\n",
        "    moda1 = m1\n",
        "#print(f'A moda da primeira lista é: {moda1}')\n",
        "# Cálculo da Variância Amostral - 1a lista\n",
        "var1 = 0\n",
        "for i in range(len(ordenado1)):\n",
        "  temp1 = (ordenado1[i] - media1)**2/len(ordenado1)\n",
        "  var1= var1 + temp1\n",
        "#print(f'A variância Amostral da 1a lista é: {var1:.2f}')\n",
        "# Cálculo do Desvio Padrão Amostral - 1a Lista\n",
        "desv_am1 =  var1 **(1/2)\n",
        "#print(f'O desvio padrão amostral da primeira lista é: {desv_am1:.2f}')\n",
        "# Cálculo da Amplitude Total - 1a Lista\n",
        "max1 = max(ordenado1)\n",
        "min1 = min(ordenado1)\n",
        "amplitude1 = max1 - min1\n",
        "#print(f'A Amplitude Total da primeira lista é: {amplitude1}')\n",
        "# Cálculo do Q1 - 1a Lista\n",
        "if qtd1 % 2 == 0:\n",
        "  for i in range(qtd1//2):\n",
        "    lista1_1q.append(ordenado1[i])\n",
        "   # qtd_1q = len(lista_1q)\n",
        "    mediana1q = ((lista1_1q[len(lista1_1q)//2-1]) + (lista1_1q[len(lista1_1q)//2])) / 2\n",
        "#  print(f'O 1o Quartil é:  {mediana1q:.2f}')\n",
        "else:\n",
        "  for i in range(qtd1//2, qtd1):\n",
        "    lista1_1q.append(ordenado1[i])\n",
        "    #qtd_1q = len(lista_1q)\n",
        "    mediana1q = (lista1_1q[len(lista1_1q)//2])\n",
        "  #print(f'O 1o Quartil é:  {mediana1q:.2f}')\n",
        "# Cálculo do Q3 - 1a Lista\n",
        "if qtd1 % 2 == 0:\n",
        "  for i in range(qtd1//2, qtd1): # Separação dos itens do 3o quartil (qtd par)\n",
        "    lista1_3q.append(ordenado1[i])\n",
        "    #qtd_3q = len(lista_3q)\n",
        "    mediana3q = ((lista1_3q[len(lista1_3q)//2-1]) + (lista1_3q[len(lista1_3q)//2])) / 2\n",
        "  #print(f'O 3o Quartil é:  {mediana3q:.2f}')\n",
        "else:\n",
        "  for i in range(qtd1//2, qtd1): # Separação dos itens do 3o quartil (qtd ímpar)\n",
        "    lista1_3q.append(ordenado1[i])\n",
        "    #qtd_3q = len(lista_3q)\n",
        "    mediana3q = (lista1_3q[len(lista1_3q)//2])\n",
        " # print(f'O 3o Quartil é:  {mediana3q:.2f}')\n",
        "# Cálculo da Amplitude Interquartílica\n",
        "aiq1 = (mediana3q) - (mediana1q)\n",
        "#print(f'A Amplitude Interquartílica da primeira lista é: {aiq1}')\n",
        "# Cálculo do Limite Inferior\n",
        "li1 = (mediana1q - 1.5*aiq1)\n",
        "#print(f'O Limite Inferior da primeira amostra é: {li1}')\n",
        "# Cálculo do Limite Superior\n",
        "ls1 = ((mediana3q) + (1.5*(aiq1)))\n",
        "#print(f'O Limite Superior da primeira amostra é: {ls1}')\n",
        "# Identificação e classificação de possíveis outliers na amostra\n",
        "outlier1 = []\n",
        "for i in range(len(ordenado1)):\n",
        "  if ordenado1[i] < li1:\n",
        "    outlier1.append(ordenado1[i])\n",
        "    print(f'O valor {ordenado1[i]} é um outlier BAIXO')\n",
        "  elif ordenado1[i] > ls1:\n",
        "    outlier1.append(ordenado1[i])\n",
        "    print(f'O valor {ordenado1[i]} é um outlier ALTO')\n",
        "if len(outlier1) ==0:\n",
        "    print('A lista não possui outliers')"
      ],
      "metadata": {
        "colab": {
          "base_uri": "https://localhost:8080/"
        },
        "id": "8KhollbmN9hp",
        "outputId": "ee76c17a-d9d8-46b0-b0c8-b75bfb28cae9"
      },
      "execution_count": null,
      "outputs": [
        {
          "output_type": "stream",
          "name": "stdout",
          "text": [
            "O valor 1 é um outlier BAIXO\n",
            "O valor 2 é um outlier BAIXO\n",
            "O valor 3 é um outlier BAIXO\n",
            "O valor 4 é um outlier BAIXO\n",
            "O valor 5 é um outlier BAIXO\n",
            "O valor 7 é um outlier ALTO\n"
          ]
        }
      ]
    },
    {
      "cell_type": "code",
      "source": [
        "#Calcula a média da 2a lista\n",
        "lista2 = numeros2.split()\n",
        "ordenado2 = []\n",
        "for i in lista2:\n",
        "  ordenado2.append(int(i))\n",
        "  media2 = (sum(ordenado2) / len(ordenado2))\n",
        "#print(f'A média da segunda lista é: {media2:.2f}')\n",
        "# Cálculo da Mediana\n",
        "ordenado2.sort()\n",
        "#print(ordenado2)\n",
        "qtd2 = len(ordenado2)\n",
        "#print(qtd1)\n",
        "lista2_1q = []\n",
        "lista2_3q = []\n",
        "if qtd2 % 2 == 0:\n",
        "  mediana2 = ((ordenado2[qtd2//2-1]) + (ordenado2[qtd2//2])) / 2\n",
        "  #print('A mediana da segunda lista é: ', mediana2)\n",
        "else:\n",
        "  mediana2 = (ordenado2[qtd2//2])\n",
        "  #print(f'A mediana da segunda lista é:  {mediana2}')\n",
        "# Cálculo da Moda - 2a Lista\n",
        "count = 0\n",
        "for m2 in ordenado2:\n",
        "  if ordenado2.count(m2) > count:\n",
        "    count = ordenado1.count(m2)\n",
        "    moda2 = m2\n",
        "#print(f'A moda da segunda lista é: {moda2}')\n",
        "# Cálculo da Variância Amostral - 2a lista\n",
        "var2 = 0\n",
        "for i in range(len(ordenado2)):\n",
        "  temp2 = (ordenado2[i] - media2)**2/len(ordenado2)\n",
        "  var2= var2 + temp2\n",
        "#print(f'A variância Amostral da 2a lista é: {var2:.2f}')\n",
        "# Cálculo do Desvio Padrão Amostral - 2a Lista\n",
        "desv_am2 =  var2 **(1/2)\n",
        "#print(f'O desvio padrão amostral da primeira lista é: {desv_am2:.2f}')\n",
        "# Cálculo da Amplitude Total - 2a Lista\n",
        "max2 = max(ordenado2)\n",
        "min2 = min(ordenado2)\n",
        "amplitude2 = max2 - min2\n",
        "#print(f'A Amplitude Total da primeira lista é: {amplitude2}')\n",
        "# Cálculo do Q1 - 2a Lista\n",
        "if qtd2 % 2 == 0:\n",
        "  for i in range(qtd2//2):\n",
        "    lista2_1q.append(ordenado2[i])\n",
        "   # qtd_1q = len(lista_1q)\n",
        "    mediana2_1q = ((lista2_1q[len(lista2_1q)//2-1]) + (lista2_1q[len(lista2_1q)//2])) / 2\n",
        "  #print(f'O 1o Quartil é:  {mediana2_1q:.2f}')\n",
        "else:\n",
        "  for i in range(qtd2//2, qtd2):\n",
        "    lista2_1q.append(ordenado2[i])\n",
        "    #qtd_1q = len(lista_1q)\n",
        "    mediana2_1q = (lista2_1q[len(lista2_1q)//2])\n",
        " # print(f'O 1o Quartil é:  {mediana2_1q:.2f}')\n",
        " # Cálculo do Q3 - 2a Lista\n",
        "if qtd2 % 2 == 0:\n",
        "  for i in range(qtd2//2, qtd2): # Separação dos itens do 3o quartil (qtd par)\n",
        "    lista2_3q.append(ordenado2[i])\n",
        "    #qtd_3q = len(lista_3q)\n",
        "    mediana2_3q = ((lista2_3q[len(lista2_3q)//2-1]) + (lista2_3q[len(lista2_3q)//2])) / 2\n",
        "  #print(f'O 3o Quartil é:  {mediana2_3q:.2f}')\n",
        "else:\n",
        "  for i in range(qtd2//2, qtd2): # Separação dos itens do 3o quartil (qtd ímpar)\n",
        "    lista2_3q.append(ordenado2[i])\n",
        "    #qtd_3q = len(lista_3q)\n",
        "    mediana2_3q = (lista2_3q[len(lista2_3q)//2])\n",
        " # print(f'O 3o Quartil é:  {mediana2_3q:.2f}')\n",
        "# Cálculo da Amplitude Interquartílica\n",
        "aiq2 = (mediana3q) - (mediana1q)\n",
        "#print(f'A Amplitude Interquartílica da primeira lista é: {aiq1}')\n",
        "# Cálculo do Limite Inferior\n",
        "li2 = (mediana2_1q - 1.5*aiq2)\n",
        "#print(f'O Limite Inferior da primeira amostra é: {li2}')\n",
        "# Cálculo do Limite Superior\n",
        "ls2 = ((mediana2_3q) + (1.5*(aiq2)))\n",
        "#print(f'O Limite Superior da primeira amostra é: {ls2}')\n",
        "# Identificação e classificação de possíveis outliers na amostra\n",
        "outlier2 = []\n",
        "for i in range(len(ordenado2)):\n",
        "  if ordenado2[i] < li2:\n",
        "    outlier2.append(ordenado2[i])\n",
        "    print(f'O valor {ordenado2[i]} é um outlier BAIXO')\n",
        "  elif ordenado2[i] > ls2:\n",
        "    outlier2.append(ordenado2[i])\n",
        "    print(f'O valor {ordenado2[i]} é um outlier ALTO')\n",
        "if len(outlier2) ==0:\n",
        "    print('A lista não possui outliers')"
      ],
      "metadata": {
        "colab": {
          "base_uri": "https://localhost:8080/"
        },
        "id": "eRbULmKO8ldB",
        "outputId": "a8c7f5ec-d9a9-461a-91b9-e3d58a6653cd"
      },
      "execution_count": null,
      "outputs": [
        {
          "output_type": "stream",
          "name": "stdout",
          "text": [
            "O valor 2 é um outlier BAIXO\n",
            "O valor 3 é um outlier BAIXO\n",
            "O valor 4 é um outlier BAIXO\n",
            "O valor 5 é um outlier BAIXO\n",
            "O valor 6 é um outlier BAIXO\n",
            "O valor 100 é um outlier ALTO\n"
          ]
        }
      ]
    },
    {
      "cell_type": "code",
      "source": [
        "elem1 = len(ordenado1)\n",
        "somax = 0\n",
        "somay = 0\n",
        "somaprod = 0\n",
        "soma_q_x = 0\n",
        "soma_q_y = 0\n",
        "for i in range(elem1):\n",
        "  x = ordenado1[i]\n",
        "  y = ordenado2[i]\n",
        "  somax += x\n",
        "  somay += y\n",
        "  soma_q_x += x**2\n",
        "  soma_q_y += y**2\n",
        "  somaprod += x*y\n",
        "numerador = elem1 * somaprod - somax * somay\n",
        "denominador = ((elem1 * soma_q_x - somax**2) * (elem1 * soma_q_y - somay**2)) **0.5\n",
        "pearson = numerador / denominador"
      ],
      "metadata": {
        "id": "0aIMA7JYXoZN"
      },
      "execution_count": null,
      "outputs": []
    },
    {
      "cell_type": "code",
      "source": [
        "denominador2 = ((elem1 * soma_q_x - somax**2) * (elem1 * soma_q_y - somay**2))\n",
        "coef_det = (numerador**2 / denominador2)*100"
      ],
      "metadata": {
        "id": "l2aHSfLahE9j"
      },
      "execution_count": null,
      "outputs": []
    },
    {
      "cell_type": "code",
      "source": [
        "elem1 = len(ordenado1)\n",
        "somax = 0\n",
        "somay = 0\n",
        "somaprod = 0\n",
        "soma_q_x = 0\n",
        "for i in range(elem1):\n",
        "  x = ordenado1[i]\n",
        "  y = ordenado2[i]\n",
        "  somax += x\n",
        "  somay += y\n",
        "  soma_q_x += x**2\n",
        "  somaprod += x*y\n",
        "beta = (elem1*somaprod - somax*somay) / (elem1*soma_q_x - somax**2)\n",
        "alfa = (somay - beta * somax) / elem1"
      ],
      "metadata": {
        "id": "LsGi-afTjnVT"
      },
      "execution_count": null,
      "outputs": []
    },
    {
      "cell_type": "code",
      "source": [
        "print('-'*90)\n",
        "print(f'{\"primeira lista\":^90}')\n",
        "print('-'*90)\n",
        "print(f'A média da primeira lista é : {media1:.2f}')\n",
        "print('A mediana da primeira lista é:', mediana1)\n",
        "print(f'A moda da primeira lista é: {moda1}')\n",
        "print(f'A variância Amostral da 1a lista é: {var1:.2f}')\n",
        "print(f'O desvio padrão amostral da primeira lista é: {desv_am1:.2f}')\n",
        "print(f'A Amplitude Total da primeira lista é: {amplitude1}')\n",
        "print(f'O 1o Quartil é:  {mediana1q:.2f}')\n",
        "print(f'O 3o Quartil é:  {mediana3q:.2f}')\n",
        "print(f'A Amplitude Interquartílica da primeira lista é: {aiq1}')\n",
        "print(f'O Limite Inferior da primeira amostra é: {li1}')\n",
        "print(f'O Limite Superior da primeira amostra é: {ls1}')\n",
        "print(f'Outliers da primeira amostra: {outlier1}')\n",
        "\n",
        "print('-'*90)\n",
        "print(f'{\"segunda lista\":^90}')\n",
        "print('-'*90)\n",
        "print(f'A média da segunda  lista é: {media2:.2f}')\n",
        "print('A mediana da segunda lista é: ', mediana2)\n",
        "print(f'A moda da segunda lista é: {moda2}')\n",
        "print(f'A variância Amostral da 2a lista é: {var2:.2f}')\n",
        "print(f'O desvio padrão amostral da segunda lista é: {desv_am2:.2f}')\n",
        "print(f'A Amplitude Total da segunda lista é: {amplitude2}')\n",
        "print(f'O 1o Quartil é:  {mediana2_1q:.2f}')\n",
        "print(f'O 3o Quartil é:  {mediana2_3q:.2f}')\n",
        "print(f'A Amplitude Interquartílica da segunda lista é: {aiq2}')\n",
        "print(f'O Limite Inferior da primeira amostra é: {li2}')\n",
        "print(f'O Limite Superior da primeira amostra é: {ls2}')\n",
        "print(f'Outliers da segundaa amostra: {outlier2}')\n",
        "\n",
        "print('-'*90)\n",
        "print(f'{\"Correlações\":^90}')\n",
        "print('-'*90)\n",
        "if len(ordenado1) == len(ordenado2):\n",
        "  print(f'O coeficiente de Pearson é: {pearson:.2f}')\n",
        "  print(f'O coeficiente de determinação é: {coef_det:.2f} %')\n",
        "  print(f'O coeficiente beta é: {beta:.2f}')\n",
        "  print(f'O coeficiente alfa é: {alfa:.2f}')\n",
        "else:\n",
        "  print(f'Não é possível calcular as correlações pois as listas tem quantidades divergentes de itens')\n",
        "\n",
        "\n",
        "\n"
      ],
      "metadata": {
        "colab": {
          "base_uri": "https://localhost:8080/"
        },
        "id": "H22Zr34p7H62",
        "outputId": "598ffd32-4ff6-4c0b-ab9a-aa198bcc7085"
      },
      "execution_count": null,
      "outputs": [
        {
          "output_type": "stream",
          "name": "stdout",
          "text": [
            "------------------------------------------------------------------------------------------\n",
            "                                      primeira lista                                      \n",
            "------------------------------------------------------------------------------------------\n",
            "A média da primeira lista é : 4.00\n",
            "A mediana da primeira lista é: 4\n",
            "A moda da primeira lista é: 1\n",
            "A variância Amostral da 1a lista é: 4.00\n",
            "O desvio padrão amostral da primeira lista é: 2.00\n",
            "A Amplitude Total da primeira lista é: 6\n",
            "O 1o Quartil é:  6.00\n",
            "O 3o Quartil é:  6.00\n",
            "A Amplitude Interquartílica da primeira lista é: 0\n",
            "O Limite Inferior da primeira amostra é: 6.0\n",
            "O Limite Superior da primeira amostra é: 6.0\n",
            "Outliers da primeira amostra: [1, 2, 3, 4, 5, 7]\n",
            "------------------------------------------------------------------------------------------\n",
            "                                      segunda lista                                       \n",
            "------------------------------------------------------------------------------------------\n",
            "A média da segunda  lista é: 18.14\n",
            "A mediana da segunda lista é:  5\n",
            "A moda da segunda lista é: 2\n",
            "A variância Amostral da 2a lista é: 1119.27\n",
            "O desvio padrão amostral da segunda lista é: 33.46\n",
            "A Amplitude Total da segunda lista é: 98\n",
            "O 1o Quartil é:  7.00\n",
            "O 3o Quartil é:  7.00\n",
            "A Amplitude Interquartílica da segunda lista é: 0\n",
            "O Limite Inferior da primeira amostra é: 7.0\n",
            "O Limite Superior da primeira amostra é: 7.0\n",
            "Outliers da segundaa amostra: [2, 3, 4, 5, 6, 100]\n",
            "------------------------------------------------------------------------------------------\n",
            "                                       Correlações                                        \n",
            "------------------------------------------------------------------------------------------\n",
            "O coeficiente de Pearson é: 0.65\n",
            "O coeficiente de determinação é: 42.13 %\n",
            "O coeficiente beta é: 10.86\n",
            "O coeficiente alfa é: -25.29\n"
          ]
        }
      ]
    }
  ]
}