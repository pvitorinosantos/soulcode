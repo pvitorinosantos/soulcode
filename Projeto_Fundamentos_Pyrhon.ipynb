{
  "nbformat": 4,
  "nbformat_minor": 0,
  "metadata": {
    "colab": {
      "provenance": [],
      "include_colab_link": true
    },
    "kernelspec": {
      "name": "python3",
      "display_name": "Python 3"
    },
    "language_info": {
      "name": "python"
    }
  },
  "cells": [
    {
      "cell_type": "markdown",
      "metadata": {
        "id": "view-in-github",
        "colab_type": "text"
      },
      "source": [
        "<a href=\"https://colab.research.google.com/github/pvitorinosantos/soulcode/blob/main/Projeto_Fundamentos_Pyrhon.ipynb\" target=\"_parent\"><img src=\"https://colab.research.google.com/assets/colab-badge.svg\" alt=\"Open In Colab\"/></a>"
      ]
    },
    {
      "cell_type": "markdown",
      "source": [
        "# Descrição do Projeto:\n",
        "\n",
        "Construir um script em Python que receba do usuário duas variáveis de valores referentes a variáveis quantitativas e devolva como resposta a seguintes medidas de estatística descritiva para cada variável informada.\n",
        "\n",
        "---\n"
      ],
      "metadata": {
        "id": "fk8Wix4Np-Dd"
      }
    },
    {
      "cell_type": "markdown",
      "source": [
        "# Medidas de Estatística Descritiva que serão utilizadas:\n",
        "\n",
        "*   Média aritmética;\n",
        "*   Mediana;\n",
        "*   Moda (se houver);\n",
        "*   Variância amostral;\n",
        "*   Desvio Padrão amostral;\n",
        "*   Amplitude total;\n",
        "*   Q1 (primeiro quartil);\n",
        "*   Q3 (terceiro quartil);\n",
        "*   AIQ (amplitude interquartílica);\n",
        "*   Limite inferior (LI do boxplot);\n",
        "*   Limite superior (LS do boxplot);\n",
        "*   Identificação e classificação de possíveis outliers na amostra;\n",
        "*   Coeficiente de Correlação de Pearson ( r );\n",
        "*   Coeficiente de determinação ( r ao quadrado);\n",
        "*   Coeficiente a ou alpha da equação de regressão linear simples para as duas variáveis escolhidas pelo usuário;\n",
        "*   Coeficiente b ou beta da equação de regressão linear simples para as duas variáveis escolhidas pelo usuário;\n",
        "\n",
        "---\n",
        "\n",
        "\n",
        "\n",
        "\n",
        "\n",
        "\n",
        "\n",
        "\n",
        "\n",
        "\n",
        "\n",
        "\n",
        "\n",
        "\n",
        "\n",
        "\n",
        "\n",
        "\n",
        "\n"
      ],
      "metadata": {
        "id": "pedE6p1-I4BS"
      }
    },
    {
      "cell_type": "markdown",
      "source": [
        "## Criando as listas.\n",
        "\n",
        "\n",
        "---\n"
      ],
      "metadata": {
        "id": "IgkPRf4j7J6S"
      }
    },
    {
      "cell_type": "markdown",
      "source": [
        "*As medidas serão aplicadas nos dados da empresa **XPTOzinha**, Microempresa (ME) de tecnologia, mais especificamente nos setor de RH/DP.*\n",
        "\n",
        "*Os usuários poderão escolher um número x de colaboradores e formar duas listas com seu tempo de serviço na empresa e sua remuneração bruta atual.*\n"
      ],
      "metadata": {
        "id": "Ml3usY1EFeMY"
      }
    },
    {
      "cell_type": "code",
      "source": [
        "Qtde_colaboradores = input(\"De quantos colaboradores você quer trabalhar os dados? \")\n",
        "lista1 = input(\"Informe o tempo de trabalho de cada colaborador, em anos, separado por espaços: \")\n",
        "lista2 = input(\"Agora informe a respectiva remuneração (valor bruto) atual de cada colaborador, separado por espaços: \")\n",
        "\n",
        "while len(lista1) == 0:\n",
        "    print(\"Sua lista está vazia. Refaça a operação.\")\n",
        "    Qtde_colaboradores = input(\"De quantos colaboradores você quer trabalhar os dados? \")\n",
        "\n",
        "# rh_dp: variável que designa tempo de serviço\n",
        "# dep_fin: variável que designa a remuneração bruta de cada colaborador.\n",
        "\n",
        "# Tentei usar o replace mas não rodou.\n",
        "# Não entendi o porque. Coloquei antes e depois do split.\n",
        "# Não obtive êxito.\n",
        "\n",
        "rh_dp = lista1.split()\n",
        "dep_fin = lista2.split()\n",
        "\n",
        "for i in range(len(rh_dp)):\n",
        "  rh_dp[i] = float(rh_dp[i])\n",
        "\n",
        "for i in range(len(dep_fin)):\n",
        "  dep_fin[i] = float(dep_fin[i])\n",
        "\n",
        "print(\"=======================================================================\")\n",
        "print(f\"\\nOs colaboradores escolhidos tem o seguinte tempo de serviço: {rh_dp}.\\n\")\n",
        "print(f\"Estes colaboradores tem os respectivos salários brutos: {dep_fin}.\")"
      ],
      "metadata": {
        "id": "Z7kE7B_47i3z"
      },
      "execution_count": null,
      "outputs": []
    },
    {
      "cell_type": "markdown",
      "source": [
        "## **Média aritmética:**\n",
        "*Medida de Tendência Central, considerada o valor esperado de um grupo elementos quantitativos.*\n",
        "\n",
        "Fórmula para cálculo: x̅ = ∑x / n\n",
        "Legenda:\n",
        "*   x̅ = Média Aritmética\n",
        "*   ∑ = Somatória\n",
        "*   x = Cada item do grupo de números\n",
        "*   n = Quantidade de itens da lista.\n",
        "\n",
        "---\n",
        "\n",
        "\n",
        "\n",
        "\n",
        "\n",
        "\n"
      ],
      "metadata": {
        "id": "daTbtyFmNniZ"
      }
    },
    {
      "cell_type": "code",
      "source": [
        "print(f\"A lista com o tempo de serviço dos colaboradores é: {rh_dp}.\")\n",
        "print(f\"A lista com os salários do Departamento Financeiro é: {dep_fin}.\")\n",
        "print(\"========================================================================\")\n",
        "media_rhdp = sum(rh_dp) / len(rh_dp)\n",
        "media_fin = sum(dep_fin) / len(dep_fin)\n",
        "print(f\"O tempo médio de serviço dos colaboradores é: {media_rhdp:.2f}.\")\n",
        "print(f\"O valor médio da remuneração bruta dos colaboradores é: {media_fin:.2f}.\")"
      ],
      "metadata": {
        "id": "GBOuO34kNm3J"
      },
      "execution_count": null,
      "outputs": []
    },
    {
      "cell_type": "markdown",
      "source": [
        "## Mediana:\n",
        "Medida de Tendência Central, que representa o valor central de um conjunto de dados.e o valor que está exatament no centro, de modo que 50% dos números são superiores e 50% são inferiores à mediana.\n",
        "\n",
        "Seu cálculo é feito através da posição que divide o registro ao meio.\n",
        "\n",
        "Fórmula para cálculo da posição da mediana: Pmd = (n + 1) / 2\n",
        "\n",
        "Legenda:\n",
        "\n",
        "*   Pmd = Posição da mediana\n",
        "*   n = Quantidade de itens da lista.\n",
        "\n",
        "---\n"
      ],
      "metadata": {
        "id": "a-gg3JYNSjzm"
      }
    },
    {
      "cell_type": "code",
      "source": [
        "# Calculando a mediana do tempo de serviço:\n",
        "rh_dp.sort()\n",
        "\n",
        "tamanho_lista_rh = len(rh_dp)\n",
        "\n",
        "posicao_mediana_rh = int((tamanho_lista_rh + 1) / 2)\n",
        "\n",
        "indice_mediana_rh = int(posicao_mediana_rh - 1)\n",
        "\n",
        "mediana_rh = rh_dp[indice_mediana_rh]\n",
        "\n",
        "\n",
        "print(f\"A lista ordenada com o período trabalhado dos colaboradores é: {rh_dp}.\")\n",
        "print(\"========================================================================\")\n",
        "print(f\"A lista de tempo de serviço contém {tamanho_lista_rh} elementos.\")\n",
        "print(\"========================================================================\")\n",
        "print(f\"A posição em que se encontra a mediana na lista de tempo de serviço é a posição de número {posicao_mediana_rh}.\")\n",
        "print(\"========================================================================\")\n",
        "print(f\"O índice em que se encontra a mediana na lista do tempo de serviço é o de número {indice_mediana_rh}.\")\n",
        "print(\"========================================================================\")\n",
        "print(f\"A mediana do tempo de serviço dos colaboradores é: {mediana_rh:.1f}!\")"
      ],
      "metadata": {
        "id": "3VSwpFdcT84O"
      },
      "execution_count": null,
      "outputs": []
    },
    {
      "cell_type": "code",
      "source": [
        "# Calculando a mediana da remuneração bruta:\n",
        "\n",
        "dep_fin.sort()\n",
        "tamanho_lista_fin = len(dep_fin)\n",
        "posicao_mediana_fin = int((tamanho_lista_fin + 1) / 2)\n",
        "indice_mediana_fin = int(posicao_mediana_fin - 1)\n",
        "mediana_fin = dep_fin[indice_mediana_fin]\n",
        "\n",
        "\n",
        "print(f\"A lista ordenada com os salários brutos é: {dep_fin}.\")\n",
        "print(\"========================================================================\")\n",
        "print(f\"A lista de remuneração contém {tamanho_lista_fin} elementos.\")\n",
        "print(\"========================================================================\")\n",
        "print(f\"A posição em que se encontra a mediana na lista de remuneração é a posição de número {posicao_mediana_fin}.\")\n",
        "print(\"========================================================================\")\n",
        "print(f\"O índice em que se encontra a mediana na lista de remuneração é o de número {indice_mediana_fin}.\")\n",
        "print(\"========================================================================\")\n",
        "print(f\"A mediana do salário dos colaboradores é: {mediana_fin:.1f}!\")"
      ],
      "metadata": {
        "id": "ZMefMebgjuAF"
      },
      "execution_count": null,
      "outputs": []
    },
    {
      "cell_type": "code",
      "source": [
        "print(f\"A média de tempo de serviço é de {media_rhdp:.1f} anos.\\nA mediana de tempo de serviço é de {mediana_rh:.1f} anos.\")\n",
        "print(\"========================================================================\")\n",
        "print(f\"A média salarial doscolaboradores é de {media_fin:.2f} reais.\\nA mediana dos valores salariais é de {mediana_fin:.2f} reais.\")\n",
        "print(\"========================================================================\")\n",
        "print(\"Lembrando que quanto mais próximo o valor entre a média e a mediana, mais normal é considerada a distribuição desses valores.\\nQuanto mais distantes, mais anormal é considerada essa distribuição.\")"
      ],
      "metadata": {
        "id": "VGRhpHg0okDM"
      },
      "execution_count": null,
      "outputs": []
    },
    {
      "cell_type": "markdown",
      "source": [
        "## Moda:\n",
        "Medida de Tendência Central, que traz  o elemento mais frequente em um conjunto de dados.\n",
        "\n",
        "Pode ser *amodal* (quando não apresente nenhum dado repetido), ou *multimodal* (quando o conjunto de dados tem mais de uma moda).\n",
        "\n",
        "\n",
        "---\n"
      ],
      "metadata": {
        "id": "BgkNtjOKqFbp"
      }
    },
    {
      "cell_type": "markdown",
      "source": [
        "## Variância amostral e Desvio Padrão:\n",
        "Medidas de Dispersão atreladas à média.\n",
        "Mostram o quão distante os valores estão da média.\n",
        "\n",
        "\n",
        "---\n"
      ],
      "metadata": {
        "id": "wlz-7I5vrMi1"
      }
    },
    {
      "cell_type": "code",
      "source": [
        "# Variância e Desvio-padrão de período trabalhado.\n",
        "\n",
        "rhdp_quad = []\n",
        "\n",
        "for i in range(len(rh_dp)):\n",
        "  rhdp_quad.append((rh_dp[i] - media_rhdp)** 2)\n",
        "var_rh = sum(rhdp_quad) / (len(rh_dp)- 1)\n",
        "desvio_rhdp = var_rh ** (1 / 2)\n",
        "\n",
        "print(f\"A média de tempo de serviço é de {media_rhdp:.2f} anos.\")\n",
        "print(f\"A variância do tempo de serviço é de {var_rh:.2f}.\\nE o desvio padrão é de {desvio_rhdp:.2f}, para mais ou para menos.\")\n"
      ],
      "metadata": {
        "id": "bF_swhAyiKjY"
      },
      "execution_count": null,
      "outputs": []
    },
    {
      "cell_type": "code",
      "source": [
        "# Variância e Desvio-padrão da remuneração\n",
        "\n",
        "fin_quad = []\n",
        "\n",
        "for i in range(len(dep_fin)):\n",
        "  fin_quad.append((dep_fin[i] - media_fin)** 2)\n",
        "var_fin = sum(fin_quad) / (len(dep_fin) - 1)\n",
        "desvio_fin = var_fin ** (1 / 2)\n",
        "\n",
        "print(f\"A média salarial dos profissionais do financeiro é de {media_fin:.2f} reais.\")\n",
        "print(f\"A variância dos valores salariais no RH/DP é de {var_fin:.0f}.\\nE o desvio padrão é de {desvio_fin:.2f} reais, para mais ou para menos.\")"
      ],
      "metadata": {
        "id": "XsTiq2HxlfhO"
      },
      "execution_count": null,
      "outputs": []
    },
    {
      "cell_type": "markdown",
      "source": [
        "## Medidas separatrizes:\n",
        "\n",
        "*   Mínimo e Máximo - Menor e maior valor da lista, respectivamente.\n",
        "*   1º e 3º Quartil - Os quartis são a mediana da mediana.\n",
        "\n",
        "A partir destes dados, chega-se à:\n",
        "\n",
        "\n",
        "*   Amplitude total - É a diferença (intervalo) entre o valor máximo e o mínimo.\n",
        "\n",
        "    Fórmula para cálculo: At = Vmax - Vmin\n",
        "\n",
        "*   Amplitude interquatílica - É a diferença (intervalo) entre o 3º quartil e o 1º quartil.\n",
        "\n",
        "    Fórmula para cálculo: Aiq = q3 - q1\n",
        "\n",
        "---\n",
        "\n",
        "\n",
        "\n"
      ],
      "metadata": {
        "id": "lSqoED8Joa2I"
      }
    },
    {
      "cell_type": "markdown",
      "source": [
        "##### Amplitude total"
      ],
      "metadata": {
        "id": "86NSevjGqO0k"
      }
    },
    {
      "cell_type": "code",
      "source": [
        "# Amplitude total - Tempo de serviço\n",
        "\n",
        "rh_dp.sort()\n",
        "print(f\"A lista do tempo de serviço é: {rh_dp}.\")\n",
        "print(\"==============================================================\")\n",
        "vmax_rh = max(rh_dp)\n",
        "vmin_rh = min(rh_dp)\n",
        "print(f\"O maior valor presente na lista tempo de serviço é de {vmax_rh} anos.\")\n",
        "print(f\"O menor valor presente na lista tempo de serviço é de {vmin_rh} anos.\")\n",
        "print(\"==============================================================\")\n",
        "amp_t_rh = vmax_rh - vmin_rh\n",
        "print(f\"O intervalo que compreende a amplitude total é de aproximadamente {amp_t_rh:.2f}.\")\n"
      ],
      "metadata": {
        "id": "RZLTTk4DqRhK"
      },
      "execution_count": null,
      "outputs": []
    },
    {
      "cell_type": "code",
      "source": [
        "# Amplitude total - Remuneração Bruta\n",
        "\n",
        "dep_fin.sort()\n",
        "print(f\"A lista é: {dep_fin}.\")\n",
        "print(\"==============================================================\")\n",
        "vmax_fin = max(dep_fin)\n",
        "vmin_fin = min(dep_fin)\n",
        "print(f\"O maior valor presente na lista de remunerações é de {vmax_fin} reais.\")\n",
        "print(f\"O menor valor presente na lista do remunerações é de {vmin_fin} reais.\")\n",
        "print(\"==============================================================\")\n",
        "amp_t_fin = vmax_fin - vmin_fin\n",
        "print(f\"O intervalo que compreende a amplitude total é de aproximadamente {amp_t_fin:.2f}.\")\n"
      ],
      "metadata": {
        "id": "20XPXIIOsdMT"
      },
      "execution_count": null,
      "outputs": []
    },
    {
      "cell_type": "markdown",
      "source": [
        "##### 1º Quartil e 3º quartil"
      ],
      "metadata": {
        "id": "Iyj0awwUyXCt"
      }
    },
    {
      "cell_type": "code",
      "source": [
        "#Cálculo do 1º Quartil de tempo de serviço:\n",
        "\n",
        "quartil1_rhdp = rh_dp[:3]\n",
        "tamanho_q1rh = len(quartil1_rhdp)\n",
        "\n",
        "\n",
        "posicao_mediana_q1rh = int((tamanho_q1rh + 1) / 2)\n",
        "indice_mediana_q1rh = int(posicao_mediana_q1rh - 1)\n",
        "mediana_q1rh = rh_dp[indice_mediana_q1rh]\n",
        "print(f\"A lista de tempo de serviço contem {tamanho_lista_rh} elementos.\")\n",
        "print(f\"A lista para cálculo do 1º quartil contem {tamanho_q1rh} elementos e é composta por: {quartil1_rhdp}.\")\n",
        "print(\"========================================================================\")\n",
        "print(f\"A posição em que se encontra o 1º quartil é {posicao_mediana_q1rh}, sendo seu correspondente índice o de número {indice_mediana_q1rh}.\")\n",
        "print(f\"O 1º quartil da lista de tempo de serviço é: {mediana_q1rh:.2f}.\")\n",
        "\n",
        "\n"
      ],
      "metadata": {
        "id": "IZ2oJw-Jyafl"
      },
      "execution_count": null,
      "outputs": []
    },
    {
      "cell_type": "code",
      "source": [
        "#Cálculo do 3º Quartil do tempo de serviço:\n",
        "\n",
        "quartil3_rhdp = rh_dp[2:5]\n",
        "tamanho_q3rh = len(quartil3_rhdp)\n",
        "\n",
        "\n",
        "posicao_mediana_q3rh = int((tamanho_q3rh + 1) / 2)\n",
        "indice_mediana_q3rh = int(posicao_mediana_q1rh + 1)\n",
        "mediana_q3rh = rh_dp[indice_mediana_q3rh]\n",
        "\n",
        "print(f\"A lista do tempo de serviço contem {tamanho_lista_rh} elementos.\")\n",
        "print(f\"A lista para cálculo do 1º quartil contem {tamanho_q3rh} elementos e é composta por: {quartil3_rhdp}.\")\n",
        "print(\"========================================================================\")\n",
        "print(f\"A posição em que se encontra o 1º quartil é {posicao_mediana_q3rh}, sendo seu correspondente índice o de número {indice_mediana_q3rh}.\")\n",
        "print(f\"O 3º quartil da lista de tempo de serviço é: {mediana_q3rh:.2f}.\")\n"
      ],
      "metadata": {
        "id": "DZ4NFApm_Vr9"
      },
      "execution_count": null,
      "outputs": []
    },
    {
      "cell_type": "code",
      "source": [
        "#Cálculo do 1º Quartil - Remuneração:\n",
        "\n",
        "quartil1_fin = dep_fin[:3]\n",
        "tamanho_q1fin = len(quartil1_fin)\n",
        "\n",
        "\n",
        "posicao_mediana_q1fin = int((tamanho_q1fin + 1) / 2)\n",
        "indice_mediana_q1fin = int(posicao_mediana_q1fin - 1)\n",
        "mediana_q1fin = dep_fin[indice_mediana_q1fin]\n",
        "print(f\"A lista remuneração contem {tamanho_lista_fin} elementos, composta por {dep_fin}.\")\n",
        "print(f\"A lista para cálculo do 1º quartil contem {tamanho_q1fin} elementos e é composta por: {quartil1_fin}.\")\n",
        "print(\"========================================================================\")\n",
        "print(f\"A posição em que se encontra o 1º quartil é {posicao_mediana_q1fin}, sendo seu correspondente índice o de número {indice_mediana_q1fin}.\")\n",
        "print(f\"O 1º quartil da lista remuneração é: {mediana_q1fin:.2f}.\")\n",
        "\n"
      ],
      "metadata": {
        "id": "aWZxfMse1k_p"
      },
      "execution_count": null,
      "outputs": []
    },
    {
      "cell_type": "code",
      "source": [
        "#Cálculo do 3º Quartil - Remuneração:\n",
        "\n",
        "quartil3_fin = dep_fin[2:5]\n",
        "tamanho_q3fin = len(quartil3_fin)\n",
        "\n",
        "\n",
        "posicao_mediana_q3fin = int((tamanho_q3fin + 1) / 2)\n",
        "indice_mediana_q3fin = int(posicao_mediana_q3fin + 1)\n",
        "mediana_q3fin = dep_fin[indice_mediana_q3fin]\n",
        "print(f\"A lista de remuneração contem {tamanho_lista_fin} elementos, composta por {dep_fin}.\")\n",
        "print(f\"A lista para cálculo do 3º quartil contem {tamanho_q3fin} elementos e é composta por: {quartil3_fin}.\")\n",
        "print(\"========================================================================\")\n",
        "print(f\"A posição em que se encontra o 3º quartil é {posicao_mediana_q3fin}, sendo seu correspondente índice o de número {indice_mediana_q3fin}.\")\n",
        "print(f\"O 3º quartil da lista de remuneração é: {mediana_q3fin:.2f}.\")"
      ],
      "metadata": {
        "id": "skC9tSGRClRw"
      },
      "execution_count": null,
      "outputs": []
    },
    {
      "cell_type": "markdown",
      "source": [
        "##### Amplitude Interquatílica"
      ],
      "metadata": {
        "id": "7w6eIbw9zP4D"
      }
    },
    {
      "cell_type": "code",
      "source": [
        "# Fórmula para cálculo: AIQ = q3 - q1\n",
        "\n",
        "aiq_rhdp = mediana_q3rh - mediana_q1rh\n",
        "aiq_fin = mediana_q3fin - mediana_q1fin\n",
        "\n",
        "print(f\"A lista de tempo de serviço é composta por: {rh_dp}.\")\n",
        "print(f\"A lista de remuneração é composta por: {dep_fin}.\")\n",
        "print(\"==================================================\")\n",
        "print(f\"O 1º e o 3º quartil da lista de tempo de serviço são, respectivamente: {mediana_q1rh} e {mediana_q3rh}.\")\n",
        "print(f\"O 1º e o 3º quartil da lista de remuneração são, respectivamente: {mediana_q1fin} e {mediana_q3fin}.\")\n",
        "print(\"==================================================\")\n",
        "print(f\"A amplitude interquatílica da lista de tempo de serviço é: {aiq_rhdp:.2f}.\")\n",
        "print(f\"A amplitude interquatílica da lista de remuneração é: {aiq_fin}.\")"
      ],
      "metadata": {
        "id": "nG84rn4SzWdT"
      },
      "execution_count": null,
      "outputs": []
    },
    {
      "cell_type": "markdown",
      "source": [
        "##### Limites inferior e superior\n",
        "\n",
        "Através de um gráfico boxplot, são demonstrados esses limites.\n",
        "\n",
        "Esses limites demonstram o quão grande é a dispersão.\n",
        "\n",
        "Fórmulas para cálculo:\n",
        "\n",
        "li = q1 - 1.5 x aiq\n",
        "\n",
        "ls = q3 + 1.5 x aiq"
      ],
      "metadata": {
        "id": "mTu-SZPK4-34"
      }
    },
    {
      "cell_type": "code",
      "source": [
        "# Limites inferior e superior da lista de tempo de serviço.\n",
        "\n",
        "li_rhdp = mediana_q1rh - (1.5 * aiq_rhdp)\n",
        "ls_rhdp = mediana_q3rh + (1.5 * aiq_rhdp)\n",
        "print(f\"A lista de tempo de serviço é composta por: {rh_dp}.\")\n",
        "print(f\"Os limites inferior e superior da lista de tempo de serviço são, respectivamente: {li_rhdp:.2f} e {ls_rhdp:.2f}.\")"
      ],
      "metadata": {
        "id": "nwPkv_Gr464Y"
      },
      "execution_count": null,
      "outputs": []
    },
    {
      "cell_type": "code",
      "source": [
        "# Limites inferior e superior da lista de remuneração:\n",
        "\n",
        "li_fin = mediana_q1fin - (1.5 * aiq_fin)\n",
        "ls_fin = mediana_q3fin + (1.5 * aiq_fin)\n",
        "print(f\"A lista de remuneração é composta por: {dep_fin}.\")\n",
        "print(f\"Os limites inferior e superior da lista de remuneração são, respectivamente: {li_fin} e {ls_fin}.\")"
      ],
      "metadata": {
        "id": "tV9DDSAR7qI7"
      },
      "execution_count": null,
      "outputs": []
    },
    {
      "cell_type": "markdown",
      "source": [
        "##### Outliers\n",
        "\n",
        "Tudo que é menor (abaixo) que o limite inferior e maior (acima) que o limite superior é denominado outlier.\n",
        "\n"
      ],
      "metadata": {
        "id": "0N7gHN9f8Sdw"
      }
    },
    {
      "cell_type": "code",
      "source": [
        "outlier_rh = []\n",
        "print(f\"A lista de tempo de serviço é composta por: {rh_dp}.\")\n",
        "for i in range(len(rh_dp)):\n",
        "  if rh_dp[i] < li_rhdp  or rh_dp[i] > ls_rhdp:\n",
        "    outlier_rh.append(rh_dp[i])\n",
        "    print(f\"O outlier presente na lista de tempo de serviço é: {outlier_rh}.\")\n",
        "  else:\n",
        "    pass\n",
        "\n",
        "if len(outlier_rh) == 0:\n",
        "  print(f\"A lista de tempo de serviço não tem outlier.\")\n"
      ],
      "metadata": {
        "id": "794dsghr8U7g"
      },
      "execution_count": null,
      "outputs": []
    },
    {
      "cell_type": "code",
      "source": [
        "outlier_fin = []\n",
        "print(f\"A lista de remuneração é composta por: {dep_fin}.\")\n",
        "for i in range(len(dep_fin)):\n",
        "  if dep_fin[i] < li_fin  or dep_fin[i] > ls_fin:\n",
        "    outlier_fin.append(dep_fin[i])\n",
        "    print(f\"O outlier presente na lista de remuneração é: {outlier_fin}.\")\n",
        "  else:\n",
        "    pass\n",
        "\n",
        "if len(outlier_fin) == 0:\n",
        "  print(f\"A lista de tempo de serviço não tem outlier.\")"
      ],
      "metadata": {
        "id": "CoGhL3U74TuQ"
      },
      "execution_count": null,
      "outputs": []
    },
    {
      "cell_type": "markdown",
      "source": [
        "## Medidas de associação\n",
        "\n",
        "---"
      ],
      "metadata": {
        "id": "LofKMRg2R73Y"
      }
    },
    {
      "cell_type": "markdown",
      "source": [
        "##### Coeficiente de correlação de Pearson\n",
        "\n",
        "Explica algo ou sua variação a aprtir da variação de outra coisa.\n",
        "\n",
        "Composta por uma variável dependente (x, no exemplo, rh) e uma independente (y, no exemplo, financeiro).\n",
        "\n",
        "Fórmula para cálculo:\n",
        "\n",
        "r = covariância (x,y) / despadx * despady\n",
        "\n",
        "r = (Σx*y - ((Σx * Σy) / n)) / despadx * despady\n",
        "\n",
        "Legenda:\n",
        "\n",
        "Σx*y = somatório de x * y\n",
        "\n",
        "Σx = somatório de x\n",
        "\n",
        "Σy = somatório de y\n",
        "\n",
        "despadx = desvio-padrão de x\n",
        "\n",
        "despady = desvio padrão de y"
      ],
      "metadata": {
        "id": "1kp0Eyb7SPqV"
      }
    },
    {
      "cell_type": "code",
      "source": [
        "multiplica_rhfin = []\n",
        "\n",
        "for i in range(len(rh_dp)):\n",
        "  multiplica_rhfin.append(rh_dp[i]* dep_fin[i])\n",
        "\n",
        "rhdp_soma = sum(rh_dp)\n",
        "fin_soma = sum(dep_fin)\n",
        "rhquad_soma = sum(rhdp_quad)\n",
        "finquad_soma = sum(fin_quad)\n",
        "multi_soma = sum(multiplica_rhfin)\n",
        "\n",
        "despadrh = desvio_rhdp\n",
        "despadfin = desvio_fin\n",
        "\n",
        "# Fórmula da correlação de Pearson.\n",
        "\n",
        "# r = (((Σx*y - ((Σx * Σy) / n)) / despadx * despady) / (Σx²- ((Σx) ** 2) / n) * (Σy²- ((Σy)²) / n)) ** (1 / 2)\n",
        "\n",
        "r = (((multi_soma - ((rhdp_soma * fin_soma) / 5)) / (despadrh * despadfin))) / (rhquad_soma - ((rhdp_soma ** 2) / 5) * finquad_soma - ((fin_soma ** 2) / 5)) ** (1 / 2)\n",
        "\n",
        "\n",
        "\n",
        "print(f\"A lista de tempo de serviço é composta por: {rh_dp}.\")\n",
        "print(f\"A lista de remuneração é composta por: {dep_fin}.\")\n",
        "print(\"===========================================================\")\n",
        "print(f\"A lista ao quadrado de tempo de serviço é composta por: {rhdp_quad}.\")\n",
        "print(f\"A lista ao quadrado de tempo de serviço é composta por: {fin_quad}.\")\n",
        "print(\"===========================================================\")\n",
        "print(f\"O resultado da multiplicação dos dados entre tempo de serviço e remunerações é: {multiplica_rhfin}.\")\n",
        "print(f\"A somatória dos dados da multiplicação entre tempo de serviço e remunerações é: {multi_soma}.\")\n",
        "print(f\"A somatória dos dados do tempo de serviço é: {rhdp_soma:.1f}.\")\n",
        "print(f\"A somatória dos dados de remuneração é: {fin_soma:.2f}.\")\n",
        "print(f\"A somatória dos dados do tempo de serviço ao quadrado é: {rhquad_soma:.2f}.\")\n",
        "print(f\"A somatória dos dados de remuneração ao quadrado é: {rhquad_soma:.0f}.\")\n",
        "print(\"===========================================================\")\n",
        "print(f\"O coeficiente de correlação de Pearson entre as listas de tempo de serviço e remunerações é: {r:.0f}.\")"
      ],
      "metadata": {
        "id": "EMb1PpZISMAK"
      },
      "execution_count": null,
      "outputs": []
    },
    {
      "cell_type": "markdown",
      "source": [
        "##### Coeficiente de determinação\n",
        "\n",
        "Determina em porcentagem o quanto a variação de uma variável pode ser explicada pela variação de outra.\n",
        "\n",
        "Fórmula para cálculo: r ** 2"
      ],
      "metadata": {
        "id": "Y8G1j0Xz6cNk"
      }
    },
    {
      "cell_type": "code",
      "source": [
        "coef_det = r ** 2\n",
        "print(f\"O coeficiente de determinação equivale a: {r:.0f}.\")"
      ],
      "metadata": {
        "id": "IepkTfkJ6i4Q"
      },
      "execution_count": null,
      "outputs": []
    },
    {
      "cell_type": "markdown",
      "source": [
        "##### Nota aos avaliadores.\n",
        "\n",
        "Creio que há um erro nos coeficientes. Quando da elevação das listas originais ao quadrado.\n",
        "\n",
        "Não consegui visualizar como responder. Solicitei auxílio a alguns colegas que também disseram não ter entendido.\n",
        "\n",
        "Resolvi fazer o envio mesmo assim para avaliar, pelo menos, minha linha de raciocínio.\n",
        "\n",
        "Provavelmente serão afetados os resultados das duas últimas questões.\n",
        "\n",
        "Deixarei as fórmulas abaixo, para posterior resolução."
      ],
      "metadata": {
        "id": "4iafCvDF7bA0"
      }
    },
    {
      "cell_type": "markdown",
      "source": [
        "## Regressão Linear simples\n",
        "\n",
        "Criação de uma função para colocar valor em uma variável que gere um valor esperado (estimado) em outra variável.\n",
        "\n",
        "Fórmula para cálculo: Yp = α + β * x\n",
        "\n",
        "Legenda:\n",
        "\n",
        "Yp = Valor estimado ou previsto\n",
        "\n",
        "α = Coeficiente de erro\n",
        "\n",
        "β = Coeficiente de inclinação\n",
        "\n",
        "---\n",
        "\n",
        "\n",
        "\n",
        "\n"
      ],
      "metadata": {
        "id": "HWl9XRWE8MBR"
      }
    }
  ]
}